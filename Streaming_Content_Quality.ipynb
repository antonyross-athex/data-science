{
 "cells": [
  {
   "cell_type": "markdown",
   "metadata": {},
   "source": [
    "# Streaming TV Services"
   ]
  },
  {
   "cell_type": "code",
   "execution_count": null,
   "metadata": {},
   "outputs": [],
   "source": [
    "import pandas as pd"
   ]
  },
  {
   "cell_type": "code",
   "execution_count": null,
   "metadata": {},
   "outputs": [],
   "source": [
    "df = pd.read_csv(\"streaming_tv.csv\")"
   ]
  },
  {
   "cell_type": "code",
   "execution_count": null,
   "metadata": {},
   "outputs": [],
   "source": [
    "df.head()"
   ]
  },
  {
   "cell_type": "markdown",
   "metadata": {},
   "source": [
    "### Number of Shows Rated for Each Service"
   ]
  },
  {
   "cell_type": "code",
   "execution_count": null,
   "metadata": {},
   "outputs": [],
   "source": [
    "df[\"Netflix\"].sum()"
   ]
  },
  {
   "cell_type": "code",
   "execution_count": null,
   "metadata": {},
   "outputs": [],
   "source": [
    "df[\"Hulu\"].sum()"
   ]
  },
  {
   "cell_type": "code",
   "execution_count": null,
   "metadata": {},
   "outputs": [],
   "source": [
    "df[\"Prime Video\"].sum()"
   ]
  },
  {
   "cell_type": "code",
   "execution_count": null,
   "metadata": {},
   "outputs": [],
   "source": [
    "df[\"Disney+\"].sum()"
   ]
  },
  {
   "cell_type": "markdown",
   "metadata": {},
   "source": [
    "### Total Number of Shows Rated"
   ]
  },
  {
   "cell_type": "code",
   "execution_count": null,
   "metadata": {},
   "outputs": [],
   "source": [
    "df.shape[0]"
   ]
  },
  {
   "cell_type": "markdown",
   "metadata": {},
   "source": [
    "### Determine the Proportion of Shows That Are Top-Rated"
   ]
  },
  {
   "cell_type": "code",
   "execution_count": null,
   "metadata": {},
   "outputs": [],
   "source": [
    "def stream_proportions(rater, threshold, streaming_service):\n",
    "    top_rated_count = df.loc[(df[streaming_service]==1) & \n",
    "                             (df[rater] >= threshold), \n",
    "                             streaming_service].count()\n",
    "    lower_rated_count = df.loc[(df[streaming_service]==1) & \n",
    "                               (df[rater] < threshold), \n",
    "                               streaming_service].count()\n",
    "    return top_rated_count, lower_rated_count"
   ]
  },
  {
   "cell_type": "markdown",
   "metadata": {},
   "source": [
    "# IMDb Ratings"
   ]
  },
  {
   "cell_type": "code",
   "execution_count": null,
   "metadata": {},
   "outputs": [],
   "source": [
    "streaming_services = [\"Netflix\", \"Hulu\", \"Prime Video\", \"Disney+\"]\n",
    "rater = \"IMDb\"\n",
    "threshold = 7\n",
    "\n",
    "N = len(streaming_services)  # number of streaming services\n",
    "\n",
    "num_top_shows = []\n",
    "num_lower_shows = []\n",
    "\n",
    "for service in streaming_services:\n",
    "    proportions = stream_proportions(rater, threshold, service)\n",
    "    num_top_shows.append(proportions[0])\n",
    "    num_lower_shows.append(proportions[1])"
   ]
  },
  {
   "cell_type": "code",
   "execution_count": null,
   "metadata": {},
   "outputs": [],
   "source": [
    "import numpy as np\n",
    "import matplotlib.pyplot as plt\n",
    "    \n",
    "fig, ax = plt.subplots(figsize=(18, 10))\n",
    "\n",
    "index = np.arange(N)    # the x locations for the services\n",
    "width = 0.35       # the width of the bars\n",
    "\n",
    "p1 = ax.bar(index, num_lower_shows, width, color='#A5FFC3', )\n",
    "p2 = ax.bar(index, num_top_shows, width, color='#0AC749', bottom=num_lower_shows)\n",
    "ax.set_ylabel('Count', fontsize=18)\n",
    "ax.set_title(\"The Proportion of a Streaming Service's Shows That Are Highly Rated\", fontsize=18)\n",
    "plt.xticks(index, streaming_services, fontsize=18)\n",
    "plt.legend((p2[0], p1[0]), ('Top', 'Lower'), fontsize=18)\n"
   ]
  },
  {
   "cell_type": "markdown",
   "metadata": {},
   "source": [
    "### Percentage of IMDb Ratings Above 7"
   ]
  },
  {
   "cell_type": "code",
   "execution_count": null,
   "metadata": {},
   "outputs": [],
   "source": [
    "for i in range(len(num_top_shows)):\n",
    "    percentage = num_top_shows[i]/(num_top_shows[i] + num_lower_shows[i]) * 100\n",
    "    print(f\"{streaming_services[i]:>12}: {int(percentage)}%\")"
   ]
  },
  {
   "cell_type": "markdown",
   "metadata": {},
   "source": [
    "# Rotten Tomatoes Ratings"
   ]
  },
  {
   "cell_type": "code",
   "execution_count": null,
   "metadata": {},
   "outputs": [],
   "source": [
    "streaming_services = [\"Netflix\", \"Hulu\", \"Prime Video\", \"Disney+\"]\n",
    "rater = \"Rotten Tomatoes\"\n",
    "threshold = \"70%\"\n",
    "\n",
    "N = len(streaming_services)  # number of streaming services\n",
    "\n",
    "num_top_shows = []\n",
    "num_lower_shows = []\n",
    "\n",
    "for service in streaming_services:\n",
    "    proportions = stream_proportions(rater, threshold, service)\n",
    "    num_top_shows.append(proportions[0])\n",
    "    num_lower_shows.append(proportions[1])"
   ]
  },
  {
   "cell_type": "code",
   "execution_count": null,
   "metadata": {},
   "outputs": [],
   "source": [
    "import numpy as np\n",
    "import matplotlib.pyplot as plt\n",
    "    \n",
    "fig, ax = plt.subplots(figsize=(18, 10))\n",
    "\n",
    "index = np.arange(N)    # the x locations for the services\n",
    "width = 0.35       # the width of the bars\n",
    "\n",
    "p1 = ax.bar(index, num_lower_shows, width, color='#A5FFC3', )\n",
    "p2 = ax.bar(index, num_top_shows, width, color='#0AC749', bottom=num_lower_shows)\n",
    "ax.set_ylabel('Count', fontsize=18)\n",
    "ax.set_title(\"The Proportion of a Streaming Service's Shows That Are Highly Rated\", fontsize=18)\n",
    "plt.xticks(index, streaming_services, fontsize=18)\n",
    "plt.legend((p2[0], p1[0]), ('Top', 'Lower'), fontsize=18)\n"
   ]
  },
  {
   "cell_type": "markdown",
   "metadata": {},
   "source": [
    "### Percentage of Rotten Tomatoes Ratings Above \"70%\""
   ]
  },
  {
   "cell_type": "code",
   "execution_count": null,
   "metadata": {},
   "outputs": [],
   "source": [
    "for i in range(len(num_top_shows)):\n",
    "    percentage = num_top_shows[i]/(num_top_shows[i] + num_lower_shows[i]) * 100\n",
    "    print(f\"{streaming_services[i]:>12}: {int(percentage)}%\")"
   ]
  }
 ],
 "metadata": {
  "kernelspec": {
   "display_name": "Python 3",
   "language": "python",
   "name": "python3"
  },
  "language_info": {
   "codemirror_mode": {
    "name": "ipython",
    "version": 3
   },
   "file_extension": ".py",
   "mimetype": "text/x-python",
   "name": "python",
   "nbconvert_exporter": "python",
   "pygments_lexer": "ipython3",
   "version": "3.8.5"
  }
 },
 "nbformat": 4,
 "nbformat_minor": 4
}
